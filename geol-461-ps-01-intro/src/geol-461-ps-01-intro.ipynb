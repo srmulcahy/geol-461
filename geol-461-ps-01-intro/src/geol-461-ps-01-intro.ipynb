{
 "cells": [
  {
   "cell_type": "markdown",
   "metadata": {},
   "source": [
    "# Geochemistry 461/561: Problem Set 01 - Python Introduction\n",
    "\n",
    "## Name: Put your name here"
   ]
  },
  {
   "cell_type": "markdown",
   "metadata": {},
   "source": [
    "## Import the required Python libraries\n",
    "\n",
    "#### Problem 1.1 (1 point)\n",
    "In the code box below, import the libraries you will need for this probelm set:\n",
    "* Numpy\n",
    "* Pandas\n",
    "* Matplotlib"
   ]
  },
  {
   "cell_type": "code",
   "execution_count": null,
   "metadata": {},
   "outputs": [],
   "source": []
  },
  {
   "cell_type": "markdown",
   "metadata": {},
   "source": [
    "## Getting Help\n",
    "#### Problem 1.2 (1 point)\n",
    "Use the help function in the code box below and in the space provided below, expalain the difference between the functions `np.linspace` and `np.arange`.\n",
    "\n",
    "* Write your answer here in this text box (not the code box below)"
   ]
  },
  {
   "cell_type": "code",
   "execution_count": null,
   "metadata": {},
   "outputs": [],
   "source": []
  },
  {
   "cell_type": "markdown",
   "metadata": {},
   "source": [
    "## Writing Functions and Basic Plotting"
   ]
  },
  {
   "cell_type": "markdown",
   "metadata": {},
   "source": [
    "The Van de Waals equation is an alternative expression to the ideal gas law and expresses reduced or normalized values of the pressure of a gas ($P_{r}$) to volume ($V_{r}$) and temperature ($T_{r}$) as:\n",
    "\n",
    "$$P_r = \\frac{8T_r}{3V_r-1} - \\frac{3}{V_r^2} $$\n",
    "\n",
    "#### Problem 1.3 (1 point)\n",
    "Write a function (name it vdw) to solve the Van der Waals equation for pressure ($P_{r}$) with temperature ($T_{r}$) and Volume ($V_{r}$) as input variables"
   ]
  },
  {
   "cell_type": "code",
   "execution_count": null,
   "metadata": {},
   "outputs": [],
   "source": []
  },
  {
   "cell_type": "markdown",
   "metadata": {},
   "source": [
    "#### Problem 1.4 (1 point)\n",
    "Use your equation to calcuate the reduced pressure of gas for Tr = 0.89 and Vr = 2"
   ]
  },
  {
   "cell_type": "code",
   "execution_count": null,
   "metadata": {},
   "outputs": [],
   "source": []
  },
  {
   "cell_type": "markdown",
   "metadata": {},
   "source": [
    "#### Problem 1.5 (2 points)\n",
    "* Use your equation to calculate the reduced pressure for $T_{r}$ = 0.89 and $V_{r}$ ranging from 0.5 to 3.5\n",
    "    * Hint: Use np.linspace\n",
    "* Plot the values you obtain for the reduced pressure $P_{r}$ (y-axis) versus $V_{r}$ (x-axis).\n",
    "    * Lable each axis\n",
    "    * Title the plot: Van der Waals equation for $T_{r}$ = 0.89"
   ]
  },
  {
   "cell_type": "code",
   "execution_count": null,
   "metadata": {},
   "outputs": [],
   "source": []
  },
  {
   "cell_type": "markdown",
   "metadata": {},
   "source": [
    "## Working with imported data"
   ]
  },
  {
   "cell_type": "markdown",
   "metadata": {},
   "source": [
    "#### Problem 1.6 (1 point)\n",
    "\n",
    "* Use the pandas library to import the text file `../data/morb-trace.csv` to a dataframe called `df`\n",
    "* Display the first five lines of the dataframe using the `head` function"
   ]
  },
  {
   "cell_type": "code",
   "execution_count": null,
   "metadata": {},
   "outputs": [],
   "source": []
  },
  {
   "cell_type": "markdown",
   "metadata": {},
   "source": [
    "#### Problem 1.7 (1 point)\n",
    "Group the data by Segment and determine which segment has a higher mean value of Lu"
   ]
  },
  {
   "cell_type": "code",
   "execution_count": null,
   "metadata": {},
   "outputs": [],
   "source": []
  },
  {
   "cell_type": "markdown",
   "metadata": {},
   "source": [
    "#### Problem 1.8 (2 points)\n",
    "\n",
    "* Plot the values of La (x-axis) versus Lu (y-axis) for each of the two Segments (groups).  Your plot should include:\n",
    "    * x- and y-axis labels\n",
    "    * a legend"
   ]
  },
  {
   "cell_type": "code",
   "execution_count": null,
   "metadata": {
    "scrolled": true
   },
   "outputs": [],
   "source": []
  },
  {
   "cell_type": "markdown",
   "metadata": {},
   "source": [
    "## Ionic Radius and Coodination Number\n",
    "\n",
    "The coordination number of a cation is related to the relative size of the cation and bonded anions surrounding it. The radius ratio is defined as:\n",
    "\n",
    "$$ Rr = \\frac{R_{cation}}{R_{anion}} $$\n",
    "\n",
    "#### Problem 1.9 (3 points)\n",
    "\n",
    "* Import the csv file `.../data/rock-forming-elements.csv`\n",
    "* Calculate the radius ratio for each rock-forming cation assuming the ionic radius of oxygen = 1.26 A\n",
    "* Plot the radius ratio vs coordination number and list the range of radius rations for each of the following:\n",
    "    * Trigonal coordination\n",
    "    * Tetrahedral coordiation\n",
    "    * Octahedral coordination\n",
    "    * Cubic coordination"
   ]
  },
  {
   "cell_type": "code",
   "execution_count": null,
   "metadata": {
    "scrolled": true
   },
   "outputs": [],
   "source": []
  },
  {
   "cell_type": "markdown",
   "metadata": {},
   "source": [
    "## Perecent Ionic Character\n",
    "\n",
    "Linus Pauling suggested the following emperical relation to calculate the ionic character of a bond (the ratio of ionic bonding to covalent bonding)\n",
    "\n",
    "$$ PIC = 16|\\chi_A - \\chi_B| + 3.5|\\chi_A - \\chi_B|^2 $$\n",
    "\n",
    "Where $\\chi_A$ and $\\chi_B$ are the electronegtiativies of two atoms. \n",
    "\n",
    "#### Problem 1.10 (3 points)\n",
    "\n",
    "* Use the dataframe you imported the csv file `.../data/rock-forming-elements.csv`\n",
    "* Write a function `pic` that takes variablea $\\chi_A$ and $\\chi_B$ as input\n",
    "* Calculate the percent ionic character for each rock-forming cation assuming the electronegtivity of oxygen = 3.44 A\n",
    "* Plot the atomic number vs percent ionic character for each cation"
   ]
  },
  {
   "cell_type": "code",
   "execution_count": null,
   "metadata": {},
   "outputs": [],
   "source": []
  },
  {
   "cell_type": "markdown",
   "metadata": {},
   "source": [
    "* Based on your results, describe the general trend in ionic character with chaning atomic number."
   ]
  }
 ],
 "metadata": {
  "kernelspec": {
   "display_name": "Python 3",
   "language": "python",
   "name": "python3"
  },
  "language_info": {
   "codemirror_mode": {
    "name": "ipython",
    "version": 3
   },
   "file_extension": ".py",
   "mimetype": "text/x-python",
   "name": "python",
   "nbconvert_exporter": "python",
   "pygments_lexer": "ipython3",
   "version": "3.7.4"
  }
 },
 "nbformat": 4,
 "nbformat_minor": 2
}
