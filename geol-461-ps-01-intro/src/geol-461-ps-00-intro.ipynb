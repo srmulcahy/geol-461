{
 "cells": [
  {
   "cell_type": "markdown",
   "metadata": {},
   "source": [
    "# Geochemistry 461: Python Introduction\n",
    "\n",
    "## Why Learn Python Programming in Geochemistry ?\n",
    "\n",
    "Any geochemistry study requires some form of the following workflow:\n",
    "\n",
    "1. Get data (simulation, experiment, field collection)\n",
    "2. Manipulate, process data, and test with theoretical or conceptual models\n",
    "3. Visualize results, quickly to understand, but also with high quality figures, for reports or publications\n",
    "\n",
    "[Python](https://docs.python.org/3.7/) provides a powerful environment for this kind of work because:\n",
    "\n",
    "- **Batteries included** Rich collection of already existing bricks of classic numerical methods, plotting or data processing tools. We don’t want to re-program the plotting of a curve, a Fourier transform or a fitting algorithm. Don’t reinvent the wheel!\n",
    "- **Easy to learn** Most scientists are not payed as programmers, neither have they been trained so. They need to be able to draw a curve, smooth a signal, do a Fourier transform in a few minutes.\n",
    "- **Easy communication** To keep code alive within a lab or a company it should be as readable as a book by collaborators, students, or maybe customers. Python syntax is simple, avoiding strange symbols or lengthy routine specifications that would divert the reader from mathematical or scientific understanding of the code.\n",
    "- **Efficient code** Python numerical modules are computationally efficient. But needless to say that a very fast code becomes useless if too much time is spent writing it. Python aims for quick development times and quick execution times.\n",
    "- **Universal Python** is a language used for many different problems. Learning Python avoids learning a new software for each new problem.\n",
    "- **Free software** released under an open-source license: Python can be used and distributed free of charge, even for building commercial software. \n",
    "- **Multi-platform** Python is available for all major operating systems, Windows, Linux/Unix, MacOS X"
   ]
  },
  {
   "cell_type": "markdown",
   "metadata": {},
   "source": [
    "## Python libraries\n",
    "\n",
    "Python is modular and uses libraries to accomplish specific tasks or objectives. The most important libraries that we'll load almost every coding session are:\n",
    "\n",
    "### Numpy\n",
    "\n",
    "[NumPy](https://docs.scipy.org/doc/numpy/user/whatisnumpy.html) is the fundamental package for scientific computing in Python. It is a Python library that provides a multidimensional array object, various derived objects (such as masked arrays and matrices), and an assortment of routines for fast operations on arrays, including mathematical, logical, shape manipulation, sorting, selecting, I/O, discrete Fourier transforms, basic linear algebra, basic statistical operations, random simulation and much more.\n",
    "\n",
    "### Pandas\n",
    "\n",
    "[Pandas](https://pandas.pydata.org/pandas-docs/stable/getting_started/overview.html) is a Python package providing fast, flexible, and expressive data structures designed to make working with “relational” or “labeled” data both easy and intuitive. It aims to be the fundamental high-level building block for doing practical, real world data analysis in Python.\n",
    "\n",
    "### Matplotlib\n",
    "\n",
    "[Matplotlib](https://matplotlib.org/)Matplotlib is a Python 2D plotting library which produces publication quality figures in a variety of hardcopy formats and interactive environments across platforms.Matplotlib tries to make easy things easy and hard things possible. You can generate plots, histograms, power spectra, bar charts, errorcharts, scatterplots, etc., with just a few lines of code. \n",
    "\n",
    "### Importing libraries\n",
    "\n",
    "At the start of each notebook or script, you have to import the needed Python packages.  This is done with the `import` function.  Each library is given a shorthand abbreviation to shorten the code and make it more readable.  Any function within the imported libary can then be called by using hte abbreviation, followed by a period.  For example, numpy contains a function for the number pi and be imported by typing: `np.pi`\n",
    "\n",
    "* **Execute the code block below, by clicking within the cell and hitting return**"
   ]
  },
  {
   "cell_type": "code",
   "execution_count": null,
   "metadata": {},
   "outputs": [],
   "source": [
    "import numpy as np\n",
    "import pandas as pd\n",
    "import matplotlib.pyplot as plt"
   ]
  },
  {
   "cell_type": "markdown",
   "metadata": {},
   "source": [
    "## Getting help\n",
    "\n",
    "Direct links to each of the important libraries can be found under the Help dropdowon menu a the top of the page. In addition, you can get help for any function by typing a `?` before or after the function. For example:\n",
    "* **Execute the code block below to get help for the numpy sin function**"
   ]
  },
  {
   "cell_type": "code",
   "execution_count": null,
   "metadata": {},
   "outputs": [],
   "source": [
    "np.sin?"
   ]
  },
  {
   "cell_type": "markdown",
   "metadata": {},
   "source": [
    "## Basic math with Python and Numpy\n",
    "\n",
    "* **Execute each of the following cells to see the results of the operation**"
   ]
  },
  {
   "cell_type": "code",
   "execution_count": null,
   "metadata": {},
   "outputs": [],
   "source": [
    "# Addition (or Subtraction)\n",
    "\n",
    "2.0 + 4.5"
   ]
  },
  {
   "cell_type": "code",
   "execution_count": null,
   "metadata": {},
   "outputs": [],
   "source": [
    "# Multiplication (or Division)\n",
    "\n",
    "2 * np.pi"
   ]
  },
  {
   "cell_type": "code",
   "execution_count": null,
   "metadata": {},
   "outputs": [],
   "source": [
    "# Raising to a power\n",
    "\n",
    "3.0**2"
   ]
  },
  {
   "cell_type": "code",
   "execution_count": null,
   "metadata": {},
   "outputs": [],
   "source": [
    "# Square root\n",
    "\n",
    "np.sqrt(9.0)"
   ]
  },
  {
   "cell_type": "code",
   "execution_count": null,
   "metadata": {},
   "outputs": [],
   "source": [
    "# Exponenentials\n",
    "\n",
    "np.exp(1)"
   ]
  },
  {
   "cell_type": "markdown",
   "metadata": {},
   "source": [
    "## Solving equations and writing functions\n",
    "\n",
    "We can combine operations to evaluate complex equations. Consider the value of the equation $x^{3}−log(x)$ for the value $x = 4.1$. "
   ]
  },
  {
   "cell_type": "code",
   "execution_count": null,
   "metadata": {},
   "outputs": [],
   "source": [
    "x = 4.1\n",
    "x**3 - np.log(x)"
   ]
  },
  {
   "cell_type": "markdown",
   "metadata": {},
   "source": [
    "We can also lexpress this equation as a new function, which we can call with different values througout our code. "
   ]
  },
  {
   "cell_type": "code",
   "execution_count": null,
   "metadata": {},
   "outputs": [],
   "source": [
    "def f(x):\n",
    "    \"comment about what this function does\"\n",
    "    return(x**3 - np.log(x))"
   ]
  },
  {
   "cell_type": "code",
   "execution_count": null,
   "metadata": {},
   "outputs": [],
   "source": [
    "f?"
   ]
  },
  {
   "cell_type": "code",
   "execution_count": null,
   "metadata": {},
   "outputs": [],
   "source": [
    "f(4.1)"
   ]
  },
  {
   "cell_type": "code",
   "execution_count": null,
   "metadata": {},
   "outputs": [],
   "source": [
    "f(3)"
   ]
  },
  {
   "cell_type": "markdown",
   "metadata": {},
   "source": [
    "## Basic plotting with Matplotlib\n",
    "\n",
    "The Matplotlib [Usage Guide](https://matplotlib.org/tutorials/index.html) and [Pyplot Tutorial](https://matplotlib.org/tutorials/introductory/pyplot.html#sphx-glr-tutorials-introductory-pyplot-py) under the link the Help dropdown menu are the best starting points.\n",
    "\n",
    "* **The first block of code below, plots the value of y calculated from a range of x values using our function above**"
   ]
  },
  {
   "cell_type": "code",
   "execution_count": null,
   "metadata": {},
   "outputs": [],
   "source": [
    "x = np.linspace(0.1, 2, 100)\n",
    "x"
   ]
  },
  {
   "cell_type": "code",
   "execution_count": null,
   "metadata": {},
   "outputs": [],
   "source": [
    "# create a varaible x, with 100 points evenly spaced between 0.1 and 2\n",
    "x = np.linspace(0.1, 2, 100)\n",
    "\n",
    "# calculate y using our function created above\n",
    "y = f(x)\n",
    "\n",
    "# plot x vs y\n",
    "plt.plot(x, y)\n",
    "\n",
    "# label the x and y axes and give the plot a title\n",
    "plt.xlabel('x');\n",
    "plt.ylabel('y = x**3 - log(x)');\n",
    "plt.title('Our first plot');"
   ]
  },
  {
   "cell_type": "markdown",
   "metadata": {},
   "source": [
    "* **You can also combine multiple plots into one using the `plt.subplot` command**"
   ]
  },
  {
   "cell_type": "code",
   "execution_count": null,
   "metadata": {},
   "outputs": [],
   "source": [
    "x = np.linspace(0.0, 5.0, 75)\n",
    "\n",
    "y1 = np.cos(2 * np.pi * x) * np.exp(-x)\n",
    "y2 = np.cos(2 * np.pi * x)\n",
    "\n",
    "plt.subplot(2, 1, 1)\n",
    "plt.plot(x, y1, 'o-')\n",
    "plt.title('Two plots in one graphic!');\n",
    "plt.ylabel('y1');\n",
    "\n",
    "plt.subplot(2, 1, 2)\n",
    "plt.plot(x, y2, '.-')\n",
    "plt.xlabel('time (s)');\n",
    "plt.ylabel('y2');"
   ]
  },
  {
   "cell_type": "markdown",
   "metadata": {},
   "source": [
    "## Importing and summarizing data with Pandas\n",
    "\n",
    "The Pandas library allows one to import data from a wide variety of data formats. Unlike Numpy, that only allows for matrices and array of the same data type (text, or numeric), pandas imports data of mixed format common to many geological datasets.\n",
    "\n",
    "### Import data with pd.read_csv\n",
    "\n",
    "Data should be stored from spreadsheet software in a `.csv` format (comma separated value.  The data can then be imported into a Pandas dataframe with the [read_csv](https://pandas.pydata.org/pandas-docs/stable/user_guide/io.html) command `pd.read_csv('/path_to_filename/filename.csv')`.\n",
    "\n",
    "You can then view the first few rows of a data frame `df` with the command `df.head()` or the last few rows with `df.tail()` to confirm the data imported correctly.\n",
    "\n",
    "* **Execute the code block below to import the file morb-bulk.csv and see the first few rows of data**"
   ]
  },
  {
   "cell_type": "code",
   "execution_count": null,
   "metadata": {
    "scrolled": false
   },
   "outputs": [],
   "source": [
    "df = pd.read_csv('../data/morb-bulk.csv')\n",
    "df.head()"
   ]
  },
  {
   "cell_type": "markdown",
   "metadata": {},
   "source": [
    "### Get quick summary statistics of the data\n",
    "\n",
    "Once imported, the `describe` command quickly summarizes basic statistics of each numberic column.  \n",
    "\n",
    "* **Execute the code block below to generate a summary of the data**"
   ]
  },
  {
   "cell_type": "code",
   "execution_count": null,
   "metadata": {},
   "outputs": [],
   "source": [
    "df.describe()"
   ]
  },
  {
   "cell_type": "markdown",
   "metadata": {},
   "source": [
    "### Group data by a category\n",
    "\n",
    "We commonly want to comapre different classes of data (geologic units, watersheds, analytical methods).  The `groupby` command will group data by a common values in a text column.  You can then summarize values by group.\n",
    "\n",
    "* **Execute the code block below to compare whole rock FeOt values measured by EPMA and XRF**"
   ]
  },
  {
   "cell_type": "code",
   "execution_count": null,
   "metadata": {},
   "outputs": [],
   "source": [
    "grp = df.groupby('Method')\n",
    "grp.FeOt.describe()"
   ]
  },
  {
   "cell_type": "markdown",
   "metadata": {},
   "source": [
    "## Plotting data stored in pandas dataframes"
   ]
  },
  {
   "cell_type": "markdown",
   "metadata": {},
   "source": [
    "Plotting from Pandas is similar to plotting values as above. To plot any value in a dataframe `df` call that value in the plot command with `df.column_name`.\n",
    "\n",
    "* **Execute the code below to plot dataframe values of FeOt vs MgO**"
   ]
  },
  {
   "cell_type": "code",
   "execution_count": null,
   "metadata": {},
   "outputs": [],
   "source": [
    "# plot total FeO vs MgO for all of the samples\n",
    "plt.plot(df.FeOt, df.MgO, 'ko')\n",
    "\n",
    "# label the axes\n",
    "plt.xlabel('FeOt');\n",
    "plt.ylabel('MgO');"
   ]
  },
  {
   "cell_type": "markdown",
   "metadata": {},
   "source": [
    "### Group samples and plot by group\n",
    "\n",
    "Using a `for loop` we can plot groups of data with different colors or symbols.\n",
    "\n",
    "* **Execute the code below to plot the same data as above, but grouped by analytical method**"
   ]
  },
  {
   "cell_type": "code",
   "execution_count": null,
   "metadata": {},
   "outputs": [],
   "source": [
    "# plot \n",
    "for name, group in grp:\n",
    "    plt.plot(group.FeOt, group.MgO, 'o', label = name)\n",
    "\n",
    "# label the axes and provide a legend\n",
    "plt.xlabel('FeOt');\n",
    "plt.ylabel('MgO');\n",
    "plt.legend(title='Method');"
   ]
  },
  {
   "cell_type": "code",
   "execution_count": null,
   "metadata": {},
   "outputs": [],
   "source": []
  }
 ],
 "metadata": {
  "kernelspec": {
   "display_name": "Python 3",
   "language": "python",
   "name": "python3"
  },
  "language_info": {
   "codemirror_mode": {
    "name": "ipython",
    "version": 3
   },
   "file_extension": ".py",
   "mimetype": "text/x-python",
   "name": "python",
   "nbconvert_exporter": "python",
   "pygments_lexer": "ipython3",
   "version": "3.7.4"
  }
 },
 "nbformat": 4,
 "nbformat_minor": 2
}
