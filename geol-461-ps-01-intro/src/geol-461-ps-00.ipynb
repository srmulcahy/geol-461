{
 "cells": [
  {
   "cell_type": "markdown",
   "metadata": {},
   "source": [
    "# Geochemistry 461/561: Problem Set 00 - Python Introduction\n",
    "\n",
    "## Name: Put your name here"
   ]
  },
  {
   "cell_type": "markdown",
   "metadata": {},
   "source": [
    "## Import the required Python libraries\n",
    "\n",
    "#### Problem 0.1 (1 point)\n",
    "In the code box below, import the libraries you will need for this probelm set:\n",
    "* Numpy\n",
    "* Pandas\n",
    "* Matplotlib"
   ]
  },
  {
   "cell_type": "code",
   "execution_count": null,
   "metadata": {},
   "outputs": [],
   "source": []
  },
  {
   "cell_type": "markdown",
   "metadata": {},
   "source": [
    "## Getting Help\n",
    "#### Problem 0.2 (1 point)\n",
    "Use the help function in the code box below and in the space provided below, expalain the difference between the functions `np.linspace` and `np.arange`.\n",
    "\n",
    "* Write your answer here in this text box (not the code box below)"
   ]
  },
  {
   "cell_type": "code",
   "execution_count": null,
   "metadata": {},
   "outputs": [],
   "source": []
  },
  {
   "cell_type": "markdown",
   "metadata": {},
   "source": [
    "## Writing Functions and Basic Plotting"
   ]
  },
  {
   "cell_type": "markdown",
   "metadata": {},
   "source": [
    "The Van de Waals equation is an alternative expression to the ideal gas law and expresses reduced or normalized values of the pressure of a gas ($P_{r}$) to volume ($V_{r}$) and temperature ($T_{r}$) as:\n",
    "\n",
    "$$P_r = \\frac{8T_r}{3V_r-1} - \\frac{3}{V_r^2} $$\n",
    "\n",
    "#### Problem 0.3 (1 point)\n",
    "Write a function (name it vdw) to solve the Van der Waals equation for pressure ($P_{r}$) with temperature ($T_{r}$) and Volume ($V_{r}$) as input variables"
   ]
  },
  {
   "cell_type": "code",
   "execution_count": null,
   "metadata": {},
   "outputs": [],
   "source": []
  },
  {
   "cell_type": "markdown",
   "metadata": {},
   "source": [
    "#### Problem 0.4 (1 point)\n",
    "Use your equation to calcuate the reduced pressure of gas for Tr = 0.89 and Vr = 2"
   ]
  },
  {
   "cell_type": "code",
   "execution_count": null,
   "metadata": {},
   "outputs": [],
   "source": []
  },
  {
   "cell_type": "markdown",
   "metadata": {},
   "source": [
    "#### Problem 0.5 (2 points)\n",
    "* Use your equation to calculate the reduced pressure for $T_{r}$ = 0.89 and $V_{r}$ ranging from 0.5 to 3.5\n",
    "    * Hint: Use np.linspace\n",
    "* Plot the values you obtain for the reduced pressure $P_{r}$ (y-axis) versus $V_{r}$ (x-axis).\n",
    "    * Lable each axis\n",
    "    * Title the plot: Van der Waals equation for $T_{r}$ = 0.89"
   ]
  },
  {
   "cell_type": "code",
   "execution_count": null,
   "metadata": {},
   "outputs": [],
   "source": []
  },
  {
   "cell_type": "markdown",
   "metadata": {},
   "source": [
    "## Working with imported data"
   ]
  },
  {
   "cell_type": "markdown",
   "metadata": {},
   "source": [
    "#### Problem 0.6 (1 point)\n",
    "\n",
    "* Use the pandas library to import the text file `../data/morb-trace.csv` to a dataframe called `df`\n",
    "* Display the first five lines of the dataframe using the `head` function"
   ]
  },
  {
   "cell_type": "code",
   "execution_count": null,
   "metadata": {},
   "outputs": [],
   "source": []
  },
  {
   "cell_type": "markdown",
   "metadata": {},
   "source": [
    "#### Problem 0.7 (1 point)\n",
    "Group the data by Segment and determine which segment has a higher mean value of Lu"
   ]
  },
  {
   "cell_type": "code",
   "execution_count": null,
   "metadata": {},
   "outputs": [],
   "source": []
  },
  {
   "cell_type": "markdown",
   "metadata": {},
   "source": [
    "#### Problem 0.8 (2 points)\n",
    "\n",
    "* Plot the values of La (x-axis) versus Lu (y-axis) for each of the two Segments (groups).  Your plot should include:\n",
    "    * x- and y-axis labels\n",
    "    * a legend"
   ]
  },
  {
   "cell_type": "code",
   "execution_count": null,
   "metadata": {},
   "outputs": [],
   "source": []
  }
 ],
 "metadata": {
  "kernelspec": {
   "display_name": "Python 3",
   "language": "python",
   "name": "python3"
  },
  "language_info": {
   "codemirror_mode": {
    "name": "ipython",
    "version": 3
   },
   "file_extension": ".py",
   "mimetype": "text/x-python",
   "name": "python",
   "nbconvert_exporter": "python",
   "pygments_lexer": "ipython3",
   "version": "3.7.4"
  }
 },
 "nbformat": 4,
 "nbformat_minor": 2
}
