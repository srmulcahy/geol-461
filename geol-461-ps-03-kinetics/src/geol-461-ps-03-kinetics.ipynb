{
 "cells": [
  {
   "cell_type": "markdown",
   "metadata": {},
   "source": [
    "# Geochemistry 461/561: Problem Set 03 - Kinetics\n",
    "\n",
    "## Name: Put your name here"
   ]
  },
  {
   "cell_type": "markdown",
   "metadata": {},
   "source": [
    "## Import Python Libraries"
   ]
  },
  {
   "cell_type": "code",
   "execution_count": null,
   "metadata": {},
   "outputs": [],
   "source": [
    "import numpy as np\n",
    "import pandas as pd\n",
    "import matplotlib.pyplot as plt\n",
    "from scipy import special\n",
    "from scipy import stats"
   ]
  },
  {
   "cell_type": "markdown",
   "metadata": {},
   "source": [
    "## Problem 3.1 - Reaction Order and Decay Constants\n",
    "\n",
    "Accurate determination of the $^{7}$Bedecay constant is important because any variation of decay constant may impact on the accuracy of the $^{40}$K-$^{40}$Ar dating method (something we'll discuss in the next few classes). Huh (1999) measured the variation of $^{7}$Be activity (proportional to concentration) with time in order to determine the decay constant (rate constant) of $^{7}$Be to $^{7}$Li. \n",
    "\n",
    "### Questions \n",
    "\n",
    "Import the reconstructured experimnetal data from Huh (1999) for the  decay of $^{7}$Be to $^{7}$Li from the file `../data/1999-huh.csv` and use the dataset to:\n",
    "\n",
    "1. Demonstrate that the decay of $^{7}$Be to $^{7}$Li is a first-order reaction using an approporiate graph\n",
    "2. Determine the value of the decay constant (rate constant k) and the initial concentration $^{7}$Be in Huh's experiment using linear regression\n",
    "3. Based on those values caclulate the half life of $^{7}$Be"
   ]
  },
  {
   "cell_type": "code",
   "execution_count": null,
   "metadata": {},
   "outputs": [],
   "source": [
    "def abline(slope, intercept):\n",
    "    \"\"\"Plot a line from slope and intercept\"\"\"\n",
    "    axes = plt.gca()\n",
    "    x_vals = np.array(axes.get_xlim())\n",
    "    y_vals = intercept + slope * x_vals\n",
    "    plt.plot(x_vals, y_vals, 'r-')\n"
   ]
  },
  {
   "cell_type": "markdown",
   "metadata": {},
   "source": [
    "## Problem 3.2 - Temperature Evolution of Oceanic Lithosphere\n",
    "\n",
    "### Part A\n",
    "\n",
    "At midocean ridges, mantle upwelling and melting produce new oceanic crust. As the newly created plate moves away, it is cooled by heat loss from the upper surface in contact with ocean water. Heat conduction during aging of the plate (that is, as it moves away from the ocean ridge) can be described by the 1-D half space diffusion problem:\n",
    "\n",
    "$$ T = T_S + (T_0 - T_S) erf\\left(\\frac{z}{2 \\sqrt{kt}}\\right)$$\n",
    "\n",
    "* T$_S$ is the temperature at the surface (275 K)\n",
    "* T$_0$ is the temperature at the ridge (1600 K)\n",
    "* *k* is the heat diffusivity (1E-6 m s-1)\n",
    "* *z* is depth in meters (calculate from 0 to 150 km)\n",
    "* *t* is time in seconds\n",
    "\n",
    "To use the erf and square root functions in python:\n",
    "\n",
    "```python\n",
    "special.erf()\n",
    "np.sqrt()\n",
    "```\n",
    "\n",
    "### Questions\n",
    "\n",
    "1. Plot the thermal evolution of an oceanic plate with the above values at t = 0, 1, 10, and 40 million years.\n",
    "    * NOTE: 1 million years = 31557600000000 seconds\n",
    "2. Based on your results, approximately how long would it take the ocean to cool below 1200K at a depth of 40 km?"
   ]
  },
  {
   "cell_type": "code",
   "execution_count": null,
   "metadata": {},
   "outputs": [],
   "source": [
    "# Year to seconds 31557600\n",
    "# Myr to seconds 31557600000000"
   ]
  },
  {
   "cell_type": "markdown",
   "metadata": {},
   "source": [
    "### Part B\n",
    "\n",
    "Heat flow at the mid-ocean ridge is controlled by the spreading rate of the ridge. The image below shows lower heat flow values at slow (2 cm/yr) ridges like the Mid Atlantic Ridge and higher heat flow at fast spreading ridges (5 cm/yr) like the East Pacific Rise. \n",
    "\n",
    "<img src=\"../figs/earth-heat-flow.png\" alt=\"Drawing\" style=\"width: 500px;\"/>\n",
    "\n",
    "### Questions\n",
    "\n",
    "Calculate the thermal profile for a slow and fast spreading ridge 500 km from the ridge axis.  Time in years can be calculated by the equation:\n",
    "\n",
    "$$t = x/u$$\n",
    "\n",
    "Where *x* is distance (in meters) and *u* is the spreading velocity of the plate (in meters per year). Use the caclulated value of t in equation from Part A.\n",
    "\n",
    "1. Plot thermal profiles for a slow and fast ridge over a depth (z) of 0 to 150 km\n",
    "\n",
    "    * Use a spreading rate for the slow ridge 2 cm/yr\n",
    "    \n",
    "    * Use a spreading rate for the fast ridge 5 cm/yr\n",
    "    \n",
    "    * Cacluate t from each plate at 500 km from the ridge\n",
    "    \n",
    "    * NOTE: 1 year = 31557600 seconds\n",
    "    \n",
    "2. What is the temperature of the oceanic lithoshphere for the slow and fast spreading ridges at 40 km depth? Is you observation consistent with heat flow figure above?"
   ]
  },
  {
   "cell_type": "code",
   "execution_count": null,
   "metadata": {},
   "outputs": [],
   "source": [
    "# Year to seconds 31557600\n",
    "# Myr to seconds 31557600000000"
   ]
  },
  {
   "cell_type": "markdown",
   "metadata": {},
   "source": [
    "## Problem 3.2 - Diffusion of a contaminant\n",
    "\n",
    "A toxic substance has spilled in Lake Padden, but with time this substance should diffuse out from the spill site and become diluted. The concentration variation with time can be described by a 1-D point-source diffusion equation:\n",
    "\n",
    "$$ C = \\frac{M}{\\left(4 \\pi Dt \\right)^{1/2}}e^{-x^2 / 4Dt}$$\n",
    "\n",
    "* M is the initial mass/area of the contaminant at the point source (100 kg/m2)\n",
    "* D is the diffusivity (1E-4 m2/s)\n",
    "* t is time in seconds\n",
    "* C is the concentration in (kg/m3)\n",
    "\n",
    "\n",
    "e in the equation above is the exponential and can be called from Numpy \n",
    "```python\n",
    "np.exp()\n",
    "```\n",
    "\n",
    "### Questions\n",
    "\n",
    "1. Use the above equation to calculate the diffusion of the contaminant away from the point source location with time\n",
    "\n",
    "    * Usea a range of x values from -4 to 4 m\n",
    "    \n",
    "    * Plot profiles at time (t) = 1 minute, 15 minutes, 1 hour, and 4 hours\n",
    "    \n",
    "2. Acceptable concentrations are below 50 kg/m3.  From your plots, how long will it take for the conatimant to diffuse below those those levels at x = 0?"
   ]
  },
  {
   "cell_type": "code",
   "execution_count": null,
   "metadata": {},
   "outputs": [],
   "source": []
  },
  {
   "cell_type": "markdown",
   "metadata": {},
   "source": [
    "## Problem 3.3 -  Diffusion of element across a boundary\n",
    "\n",
    "If two samples of different composition are placed together in contact then diffusion will occur to bridge the compositional difference and homogenize the two samples. The concentration evolution of the diffusing element can be described by the 1-D diffusion couple equation:\n",
    "\n",
    "$$ C = \\frac{C_L + C_R}{2} + \\frac{C_R - C_L}{2} erf\\left(\\frac{x}{2 \\sqrt{Dt}}\\right) $$\n",
    "\n",
    "* C$_L$ is the concentration on the left side of the profile (C$_L$ of CO$_2$ = 10 ppm)\n",
    "* C$_R$ is the concentration on the left side of the profile (C$_R$ of CO$_2$ = 100 ppm)\n",
    "* D is diffusivity (D = 1E-6 m2/s)\n",
    "* t is time in seconds\n",
    "\n",
    "### Questions \n",
    "1. Cacluate and plot the evolution of CO2 in slicate melt with the values above\n",
    "    * Calculate profiles at t = 0, 1, 4, and 16 hours\n",
    "2. Import measured CO2 data from an experimental run from the file `../data/co2-data.csv` and plot the data as points over your curves\n",
    "3. Based on the fit between the data and your calculated curves, how long was the diffusion experiment?"
   ]
  },
  {
   "cell_type": "code",
   "execution_count": null,
   "metadata": {},
   "outputs": [],
   "source": []
  },
  {
   "cell_type": "markdown",
   "metadata": {},
   "source": [
    "## Useful References\n",
    "\n",
    "* White, W. M. (2013). Geochemistry, Chapter 05. PDF available on Canvas\n",
    "\n",
    "* Zhang, Y. (2010). Diffusion in minerals and melts: theoretical background. Reviews in Mineralogy and Geochemistry, 72(1), 5-59, https://doi.org/10.2138/rmg.2010.72.2. PDF available on Canvas.\n",
    "\n"
   ]
  },
  {
   "cell_type": "code",
   "execution_count": null,
   "metadata": {},
   "outputs": [],
   "source": []
  }
 ],
 "metadata": {
  "kernelspec": {
   "display_name": "Python 3",
   "language": "python",
   "name": "python3"
  },
  "language_info": {
   "codemirror_mode": {
    "name": "ipython",
    "version": 3
   },
   "file_extension": ".py",
   "mimetype": "text/x-python",
   "name": "python",
   "nbconvert_exporter": "python",
   "pygments_lexer": "ipython3",
   "version": "3.7.4"
  }
 },
 "nbformat": 4,
 "nbformat_minor": 2
}
