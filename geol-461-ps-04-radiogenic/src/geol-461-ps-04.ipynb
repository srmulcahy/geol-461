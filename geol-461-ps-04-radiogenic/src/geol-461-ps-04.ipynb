{
 "cells": [
  {
   "cell_type": "markdown",
   "metadata": {},
   "source": [
    "# Geochemistry 461/561: Problem Set 04 - Radiogenic Isotopes\n",
    "\n",
    "## Name: Put your name here"
   ]
  },
  {
   "cell_type": "markdown",
   "metadata": {},
   "source": [
    "## Part 1 - Radiogenic Isotope Geochronlogy\n",
    "\n",
    "The questions in Part 1 should be answered with [IsoplotR](https://www.ucl.ac.uk/~ucfbpve/isoplotr/)\n"
   ]
  },
  {
   "cell_type": "markdown",
   "metadata": {},
   "source": [
    "### Question 1.1 \n",
    "\n",
    "The following data were measured on mineral separates from a kimberlite from Rankin Inlet area of the Hudson Bay, Northwest Territories, Canada. Plot an isochron diagram and answer the following questions:\n",
    "\n",
    "| 87Rb/86Sr | 2s (abs) | 87Sr/86Sr | 2s (abs) |\n",
    "|-----------|----------|-----------|----------|\n",
    "| 46.770    | 0.2339   | 0.848     | 0.0021   |\n",
    "| 40.410    | 0.2021   | 0.828     | 0.0021   |\n",
    "| 34.730    | 0.1737   | 0.811     | 0.0020   |\n",
    "| 33.780    | 0.1689   | 0.808     | 0.0020   |\n",
    "| 0.183     | 0.0009   | 0.706     | 0.0018   |\n",
    "| 0.137     | 0.0007   | 0.706     | 0.0018   |\n",
    "| 1.742     | 0.0087   | 0.710     | 0.0018   |\n",
    "\n",
    "- What is the age and the 2-sigma uncertainty on the age?\n",
    "- What is the initial $^{87}$Sr/$^{86}$Sr ratio and what is its significance?\n",
    "- What is the MSWD and is it an \"acceptable\" value? If not, what isthe revised uncertainty ?"
   ]
  },
  {
   "cell_type": "markdown",
   "metadata": {},
   "source": [
    "### Question 1.2\n",
    "\n",
    "1.2 The following data are were measured from the Canyon Diabolo meteorite. Plot an isochron diagram and answer the following questions:\n",
    "\n",
    "| 206Pb/204Pb | 1s (abs) | 207Pb/204Pb | 1s (abs) | 208Pb/204Pb | 1s (abs) |\n",
    "|-------------|----------|-------------|----------|-------------|----------|\n",
    "| 50.28       | 0.5028   | 34.86       | 0.3486   | 67.97       | 0.6797   |\n",
    "| 19.27       | 0.1927   | 15.95       | 0.1595   | 39.05       | 0.3905   |\n",
    "| 19.48       | 0.1948   | 15.76       | 0.1576   | 38.21       | 0.3821   |\n",
    "| 9.55        | 0.0478   | 10.38       | 0.0519   | 29.54       | 0.1477   |\n",
    "| 9.46        | 0.0473   | 10.34       | 0.0517   | 29.44       | 0.1472   |\n",
    "\n",
    "- What is the age and the 2-sigma uncertainty on the age?\n",
    "- What is the initial $^{207}$Pb/$^{204}$Pb?\n",
    "- What is the MSWD and is it an \"acceptable\" value? If not, what is the revised uncertainty?\n",
    "\n",
    "The following are isotopic ratios from deep ocean sediments. Plot the data on the isochron calculated from above.\n",
    "\n",
    "| 206Pb/204Pb | 1s (abs) | 207Pb/204Pb | 1s (abs) | 208Pb/204Pb | 1s (abs) |\n",
    "|-------------|----------|-------------|----------|-------------|----------|\n",
    "| 18.95       | 0.0948   | 15.76       | 0.0788   | 38.92       | 0.1946   |\n",
    "\n",
    "- Do the data plot on the isochron for the Canyon Diablo meteorite?\n",
    "- If so, what is the significance of this?"
   ]
  },
  {
   "cell_type": "markdown",
   "metadata": {},
   "source": [
    "### Question 1.3 \n",
    "The following data were reported for zircons from the felsic norite of the Sudbury Intrusive complex. Using these data, plot a concordia diagram and answer the questions below.\n",
    "\n",
    "| 207Pb*/235U | 2s     | 206Pb*/238U | 2s     | rho     |\n",
    "|-------------|--------|-------------|--------|---------|\n",
    "| 0.4385      | 0.0036 | 0.0280       | 0.0001 | 0.61098 |\n",
    "| 3.1073      | 0.0096 | 0.1991      | 0.0006 | 0.92907 |\n",
    "| 2.4352      | 0.0205 | 0.1561      | 0.0013 | 0.99179 |\n",
    "| 2.8698      | 0.0240  | 0.1841      | 0.0015 | 0.99165 |\n",
    "| 4.0724      | 0.0189 | 0.2614      | 0.0012 | 0.97925 |\n",
    "| 3.0066      | 0.0093 | 0.1932      | 0.0004 | 0.84911 |\n",
    "| 2.0764      | 0.0080  | 0.1343      | 0.0004 | 0.83521 |\n",
    "\n",
    "- Calculate the crystallization age and the error on the age of the intrusion\n",
    "- Determine the age of the lower intercept\n"
   ]
  },
  {
   "cell_type": "markdown",
   "metadata": {},
   "source": [
    "## Part 2 - Radiogenic Isotope Geochemsitry\n",
    "\n",
    "The questions in Part 2 should be answered by solving the appropriate equations or constructing the appropriate plots in Python."
   ]
  },
  {
   "cell_type": "code",
   "execution_count": 2,
   "metadata": {},
   "outputs": [],
   "source": [
    "import numpy as np\n",
    "import pandas as pd\n",
    "import matplotlib.pyplot as plt"
   ]
  },
  {
   "cell_type": "markdown",
   "metadata": {},
   "source": [
    "### Question 2.1\n",
    "\n",
    "2.1 A igneous samples has $^{143}$Nd/$^{144}$Nd = 0.51196 and $^{147}$Sm/$^{144}$Nd = 0.12990. The present chondritic values are $^{143}$Nd/$^{144}$Nd = 0.512638 and $^{147}$Sm/$^{144}$Nd = 0.1967 and present depleted mantle values are $^{143}$Nd/$^{144}$Nd = 0.51315 and $^{147}$Sm/$^{144}$Nd = 0.2137. Use the decay constant of $^{147}$Sm = 6.54 × 10$^{-12}$ a$^{-1}$.\n",
    "\n",
    "-   Calculate the crustal residence time relative to a chondriticmantle, 𝜏$_{CHUR}$, for the granite.\n",
    "-   Plot the isotopic evolution curve of CHUR and DM from 4.5 Ga to present and the granite from 𝜏$_{CHUR}$ to the present\n",
    "-   Is the sample more likely to have been derived from an unaltered mantle source (CHUR), a depleted mantle source, or a from a crustal source? Explain.\n",
    "\n",
    "The crustal residence time relative to chondritic mantle can be calculated via the equation:\n",
    "\n",
    "$$ T_{CHUR} = \\frac{1}{\\lambda} \\left(\\frac{(^{143}Nd/^{144}Nd)_{Sample} - (^{143}Nd/^{144}Nd)_{CHUR}}{(^{147}Sm/^{144}Nd)_{Sample} - (^{147}Sm/^{144}Nd)_{CHUR}} + 1\\right) $$\n",
    "\n",
    "The depleted mantle (DM) has the same equation as above but use the values of DM instead of CHUR.\n",
    "\n",
    "The evolution of CHUR or (or a sample if you substitute sample values for CHUR values below) with time is expressed via the following equation:\n",
    "\n",
    "$$ \\left(\\frac{^{143}Nd}{^{144}Nd}\\right)_t = \\left(\\frac{^{143}Nd}{^{144}Nd}\\right)_0 + \\left(\\frac{^{147}Sm}{^{144}Nd}\\right)_0 (e^{\\lambda t} - 1)$$\n",
    "\n"
   ]
  },
  {
   "cell_type": "markdown",
   "metadata": {},
   "source": [
    "### Question 2.2\n",
    "\n",
    "The Sr and Nd isotopic data for the young (\\< 1 Ma) basaltic rocks of the Azores Islands (Atlantic Ocean) presented below are from the compilation by White and Hofmann (1982). SM = Sao Miguel Island; F = Faial Island. The data are also in the file: `problem-2-2.csv`\n",
    "\n",
    "- Calculate the values of $\\epsilon$Sr and $\\epsilon$Nd for each point\n",
    "- Construct a graph of $\\epsilon$Sr (x-axis) versus $\\epsilon$Nd (y-axis)\n",
    "- Discuss the possible reasons for the spread of the isotopic data\n",
    "\n",
    "| Sample | 87Sr/86Sr | 143Nd/144Nd |\n",
    "|--------|-----------|-------------|\n",
    "| SM-2a  | 0.70337   | 0.51293     |\n",
    "| SM-12  | 0.70514   | 0.51271     |\n",
    "| SM-6   | 0.70430   | 0.51281     |\n",
    "| SM-6   | 0.70429   | 0.51281     |\n",
    "| SM-28  | 0.70525   | 0.51273     |\n",
    "| F-2    | 0.70386   | 0.51287     |\n",
    "| F-14   | 0.70394   | 0.51287     |\n",
    "| F-21   | 0.70384   | 0.51294     |\n",
    "| F-29   | 0.70392   | 0.51288     |\n",
    "| F-33   | 0.70393   | 0.51284     |\n",
    "\n",
    "Epsilon values are calculated with the following equations and values:\n",
    "\n",
    "$$ \\epsilon Nd = \\left[\\frac{(^{143}Nd/^{144}Nd)_{Sample}}{(^{143}Nd/^{144}Nd)_{pCHUR}} - 1 \\right] x 10^4 $$\n",
    "\n",
    "$$ \\epsilon Sr = \\left[\\frac{(^{87}Sr/^{86}Sr)_{Sample}}{(^{87}Sr/^{86}Sr)_{pUR}} - 1 \\right] x 10^4 $$\n",
    "\n",
    "- $^{143}$Nd/$^{144}$Nd$_{pCHUR}$ = 0.512638\n",
    "- $^{87}$Sr/$^{86}$Sr$_{pUR}$ = 0.7045"
   ]
  }
 ],
 "metadata": {
  "kernelspec": {
   "display_name": "Python 3",
   "language": "python",
   "name": "python3"
  },
  "language_info": {
   "codemirror_mode": {
    "name": "ipython",
    "version": 3
   },
   "file_extension": ".py",
   "mimetype": "text/x-python",
   "name": "python",
   "nbconvert_exporter": "python",
   "pygments_lexer": "ipython3",
   "version": "3.7.5"
  }
 },
 "nbformat": 4,
 "nbformat_minor": 2
}
