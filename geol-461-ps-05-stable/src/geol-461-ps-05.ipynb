{
 "cells": [
  {
   "cell_type": "markdown",
   "metadata": {},
   "source": [
    "# Geochemistry 461/561: Problem Set 05 - Stable Isotopes\n",
    "\n",
    "## Name: Put your name here"
   ]
  },
  {
   "cell_type": "markdown",
   "metadata": {},
   "source": [
    "## Import Python Libaries"
   ]
  },
  {
   "cell_type": "code",
   "execution_count": 7,
   "metadata": {},
   "outputs": [],
   "source": [
    "import numpy as np\n",
    "import pandas as pd\n",
    "import matplotlib.pyplot as plt\n",
    "from scipy import stats"
   ]
  },
  {
   "cell_type": "markdown",
   "metadata": {},
   "source": [
    "### Question 1 - Stable Isotope Geothermometry\n",
    "\n",
    "A metamorphic rock contains magnetite (mt) and garnet (gt) in equilibrium with quartz (qt). The equation describing the variation of mineral–water fractionation factors with temperature are:\n",
    "\n",
    "$$ 1000\\ ln\\  \\alpha_{Mineral-H2O} = A x - B x^2 + C x^3 $$\n",
    "\n",
    "Where:\n",
    "\n",
    "| Mineral   | A      | B     | C      |\n",
    "|-----------|--------|-------|--------|\n",
    "| Quartz    | 12.116 | 0.370  | 0.0123 |\n",
    "| Garnet    | 8.960  | 0.182 | 0.0047 |\n",
    "| Magnetite | 5.674  | 0.038 | 0.0003 |\n",
    "\n",
    "Use the above euqations and data to answer the questions below:\n",
    "\n",
    "- Calculate and plot the $ 1000\\ ln\\  \\alpha_{qt-mt}$ verus 10$^{6}$/T$^{2}$ curve from x = 1 to 6\n",
    "- Calculate and plot the $ 1000\\ ln\\  \\alpha_{qt-gt}$ verus 10$^{6}$/T$^{2}$ curve from x = 1 to 6\n",
    "- Calculate the quartz–magnetite equilibration temperature if $ 1000\\ ln\\  \\alpha_{qt-mt}$ = 14.175 per mil\n",
    "- Calculate the quartz–garnet equilibration temperature if $ 1000\\ ln\\  \\alpha_{qt-gt}$ = 6.834 per mil\n",
    "- Based on you temperature estimates, comment on the likelihood that isotopic equilibrium was acheived in the sample"
   ]
  },
  {
   "cell_type": "markdown",
   "metadata": {},
   "source": [
    "### Question 2 - Meteoric Water Lines\n",
    "\n",
    "The file `../data/geol-461-ps-05-problem-01.csv` contains $\\delta^{18}$O and $\\delta$D values of rainwater and snowmelt samples collected over a period of time at a certain locality in western USA. \n",
    "\n",
    "- Plot the data and determine the linear regression equation for the local meteoric water line. \n",
    "- How does the local meteoric water line compare with the global meteoric water line of Craig (1961)?\n",
    "- What is the $\\delta$D of the water vapor composition that the rain and snow precipitated from?"
   ]
  },
  {
   "cell_type": "markdown",
   "metadata": {},
   "source": [
    "### Question 3 - Rayleigh Distillation\n",
    "\n",
    "The progressive fractionation of a water vapor (wv) - rainwater (rw) system can be described by Rayleigh distillation. Equations for calculating the oxygen and hyrdogen isotopic compositions of the water vapor and rain water in equilibrium with the vapor as a function of f are below.\n",
    "\n",
    "For oxygen istopes:\n",
    "\n",
    "$$ \\delta ^{18}O_{wv}^{remaining} = (\\delta ^{18}O_{wv}^{initial} + 1000) f^{(\\alpha_{rw-wv}^{ox} - 1)} - 1000$$\n",
    "\n",
    "$$ \\delta ^{18}O_{rw} = (\\delta ^{18}O_{wv}^{remaining} + 1000) \\alpha_{rw-wv}^{ox} - 1000 $$\n",
    "\n",
    "For hydrogen istopes:\n",
    "\n",
    "$$ \\delta D_{wv}^{remaining} = (\\delta D_{wv}^{initial} + 1000) f^{(\\alpha_{rw-wv}^{hy} - 1)} - 1000$$\n",
    "\n",
    "$$ \\delta D_{rw} = (\\delta D_{wv}^{remaining} + 1000) \\alpha_{rw-wv}^{hy} - 1000 $$\n",
    "\n",
    "\n",
    "- Calculate and plot the $\\delta ^{18}O$ fractionation curves for water vapor and rainwater ranging from f = 0.1 to f = 1. Assume the intial value of $\\delta ^{18}O_{wv}$ = -9.1 per mil and that $\\alpha_{rw-wv}^{ox}$ = 1.0092\n",
    "\n",
    "- Calculate and plot the $\\delta D$ fractionation curves for water vapor and rainwater ranging from f = 0.1 to f = 1. Assume the intial value of $\\delta D_{wv}$ = -68.9 per mil and that $\\alpha_{rw-wv}^{hy}$ = 1.074\n",
    "\n",
    "- The mean values for the precipitation data in problem 2 above are $\\delta ^{18}O$ = -12 and $\\delta D$ = -77 per mil.  How much fractionation of ocean water would need to occur to produce these rainwater values?\n"
   ]
  }
 ],
 "metadata": {
  "kernelspec": {
   "display_name": "Python 3",
   "language": "python",
   "name": "python3"
  },
  "language_info": {
   "codemirror_mode": {
    "name": "ipython",
    "version": 3
   },
   "file_extension": ".py",
   "mimetype": "text/x-python",
   "name": "python",
   "nbconvert_exporter": "python",
   "pygments_lexer": "ipython3",
   "version": "3.7.5"
  }
 },
 "nbformat": 4,
 "nbformat_minor": 2
}
