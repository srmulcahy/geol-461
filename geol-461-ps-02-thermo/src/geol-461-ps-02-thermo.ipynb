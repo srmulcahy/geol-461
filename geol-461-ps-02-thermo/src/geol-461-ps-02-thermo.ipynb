{
 "cells": [
  {
   "cell_type": "markdown",
   "metadata": {},
   "source": [
    "# Geochemistry 461/561: Problem Set 02 - Thermodynamics\n",
    "\n",
    "## Name: Put your name here"
   ]
  },
  {
   "cell_type": "markdown",
   "metadata": {},
   "source": [
    "## Import Python libraries\n",
    "\n",
    "In addition to the standard libraries, we will need to perform linear regression in problem 2.3.  We'll do this with the scipy.stats package that you can import with the command:\n",
    "\n",
    "\n",
    "```python\n",
    "from scipy import stats\n",
    "```"
   ]
  },
  {
   "cell_type": "code",
   "execution_count": null,
   "metadata": {},
   "outputs": [],
   "source": []
  },
  {
   "cell_type": "markdown",
   "metadata": {},
   "source": [
    "## Problem 2.1 - Calculate the Gibbs free energy of a reaction (6 pts)\n",
    "\n",
    "As discussed in class, we can use thermodynamic data to calculate the Gibbs free energy of a reaction at P and T. Using the following reaction:\n",
    "\n",
    "$$ Forsterite + Quartz \\rightleftharpoons 2Enstatite $$\n",
    "\n",
    "$$ Mg_2SiO_4 + SiO_2 \\rightleftharpoons 2Mg_2Si_2O_6 $$\n",
    "\n",
    "And the thermodyamic data in the table below:\n",
    "\n",
    "\n",
    "| Mineral    | T (K)    | $\\Delta$ H  (kJ mol-1)   | S  (J mol-1 K-1)   | $\\Delta$G (kJ mol-1)     | V  (J bar-1 mol-1)   |\n",
    "|------------|--------|---------|--------|---------|-------|\n",
    "| Forsterite |  500    | -2172.6 | 163.92 | -1972.7| 4.365 |\n",
    "| Quartz     | 500    | -910.5  | 68.45  | -819.4 | 2.269 |\n",
    "| Enstatite  | 500    | -1545.1 | 115.27 | -1399.2| 3.128 |\n",
    "\n",
    "Answer questions 1-5 below.\n",
    "\n",
    "### Useful Equations\n",
    "\n",
    "\n",
    "$$ \\Delta G = \\Delta H - T \\Delta S $$\n",
    "\n",
    "$$ \\left(\\frac{\\delta G}{\\delta P}\\right)_T = \\Delta V $$\n",
    "\n",
    "$$ \\left(\\frac{\\delta G}{\\delta T}\\right)_P = - \\Delta S  $$\n",
    "\n",
    "### Questions\n",
    "\n",
    "1. Calculate $\\Delta$G (in kJ mol-1) of the reaction at 500 K from the Gibbs free energy values listed in the table.\n",
    "2. Calculate $\\Delta$G (in kJ mol-1) of the reaction at 500 K from the values of $\\Delta$H and $\\Delta$S.\n",
    "3. Are the products or reactants of the reaction stable and how do you know?\n",
    "4. Is the reaction endothermic or exothermic and how do you know?\n",
    "5. Does increaseing temperature favor the products or the reactants and how do you know?\n",
    "5. Does increaseing pressure favor the products or the reactants and how do you know?"
   ]
  },
  {
   "cell_type": "code",
   "execution_count": null,
   "metadata": {},
   "outputs": [],
   "source": []
  },
  {
   "cell_type": "markdown",
   "metadata": {},
   "source": [
    "## Problem 2.2 - Calculate P-T reaction boundaries of the Al2SiO5 diagram (6 pts)\n",
    "\n",
    "Construct the P-T phase diagram for the Al2SiO5 polymorphs (andalusite, sillimanite, and kyanite). Three reactions can be written between the end-members: \n",
    "\n",
    "$$ Kyanite \\rightleftharpoons Andalusite $$\n",
    "\n",
    "$$ Andalusite \\rightleftharpoons Sillimanite $$\n",
    "\n",
    "$$ Kyanite \\rightleftharpoons Sillimanite $$\n",
    "\n",
    "The volume for each end-member (J bar-1 mol-1) is below and is independent of temperature.\n",
    "\n",
    "|Mineral  | Volumne |\n",
    "|--------|---------|\n",
    "| Kyanite | 4.415 |\n",
    "| Andalusite | 5.152 |\n",
    "| Sillimanite | 4.986 |\n",
    "\n",
    "Use the thermodynamic data below with enthalpy and entropy reported for a range of temperature. The data are also given to you as data file in `../data/al2sio5-data.csv`\n",
    "\n",
    "| T (K)  | And $\\Delta$H | And S   | Ky $\\Delta$H | Ky S   |Sil $\\Delta$H | Sil dS   |\n",
    "|--------|---------|--------|---------|--------|---------|--------|\n",
    "| 298.15 | -2589.9 | 91.39  | -2593.8 | 82.8   | -2586.1 | 95.4   |\n",
    "| 400    | -2590.7 | 131.57 | -2594.7 | 122.81 | -2586.9 | 135.63 |\n",
    "| 500    | -2590.1 | 166.71 | -2594.1 | 157.97 | -2586.4 | 170.58 |\n",
    "| 600    | -2588.8 | 197.79 | -2592.7 | 189.1  | -2585.2 | 201.44 |\n",
    "| 700    | -2587.2 | 225.45 | -2591   | 216.84 | -2583.7 | 228.91 |\n",
    "| 800    | -2585.4 | 250.3  | -2589.2 | 241.77 | -2582   | 253.59 |\n",
    "| 900    | -2583.6 | 272.83 | -2587.3 | 264.37 | -2580.4 | 275.97 |\n",
    "\n",
    "\n",
    "### Useful Equations\n",
    "\n",
    "$$P = 1 - \\frac{\\Delta H - T \\Delta S}{\\Delta V} $$\n",
    "\n",
    "### Questions\n",
    "\n",
    "1. Calculate the pressure at each temperature for the three reactions and plot your results on a temperature (x-axis) versus pressure (y-axis) diagram.\n",
    "    1. Restrict you axis to positive values of pressure using the command plt.ylim()\n",
    "    2. Label each reaction, for example using `label='Ky=Sil'` in the `plt.plot` command and using the `plt.legend` command.\n",
    "2. What are the P-T conditions of the aluminosilicate triple point?\n",
    "4. What are the relative $\\Delta$ for the three phases at this point? No need for a calculation!\n",
    "3. Compare your diagram to an [existing diagram](https://serc.carleton.edu/research_education/equilibria/phaserule.html) and comment about the extended length of your reaction lines. (HINT: Think about the block experiment we did in class).\n"
   ]
  },
  {
   "cell_type": "code",
   "execution_count": null,
   "metadata": {},
   "outputs": [],
   "source": []
  },
  {
   "cell_type": "markdown",
   "metadata": {},
   "source": [
    "## Problem 2.3 - Derive an Fe-Mg exchange thermometer for garnet and biotite\n",
    "\n",
    "Exchange thermometers are commonly used to estimate the temperature of igneous and metamorphic rocks. In this problem you will use existing experimental data to derive an Fe-Mg exchange thermometer between garnet and biotite.\n",
    "\n",
    "### Useful Equations\n",
    "\n",
    "$$ lnK = \\frac{1}{T} \\left[\\frac{-(\\Delta H + P \\Delta V)}{3R}\\right] + \\frac{\\Delta S}{3R} $$\n"
   ]
  },
  {
   "cell_type": "markdown",
   "metadata": {},
   "source": [
    "### Import experimental data and define constants and functions"
   ]
  },
  {
   "cell_type": "code",
   "execution_count": null,
   "metadata": {},
   "outputs": [],
   "source": [
    "# Experimental data\n",
    "df = pd.read_csv('../data/garnet-biotite.csv')\n",
    "\n",
    "# Gas constant (J mol-1 K-1)\n",
    "R = 8.314\n",
    "\n",
    "# Pressure (bar) of the experiment\n",
    "P = 2070\n",
    "\n",
    "# Delta volume (J bar−1) of the reaction\n",
    "dV = 0.2494\n",
    "\n",
    "# Plot the regression line from slope and intercept\n",
    "def abline(slope, intercept):\n",
    "    \"\"\"Plot a line from slope and intercept\"\"\"\n",
    "    axes = plt.gca()\n",
    "    x_vals = np.array(axes.get_xlim())\n",
    "    y_vals = intercept + slope * x_vals\n",
    "    plt.plot(x_vals, y_vals)"
   ]
  },
  {
   "cell_type": "markdown",
   "metadata": {},
   "source": [
    "### 2.3 Part 1 - Determine H and S from the experimental data\n",
    "\n",
    "### Useful Equations\n",
    "\n",
    "\n",
    "$$\\Delta H = 3 R (-Slope) - P \\Delta V $$\n",
    "\n",
    "$$\\Delta S = 3 R (Intercept) $$\n",
    "\n",
    "\n",
    "### Questions \n",
    "\n",
    "1. Plot 1/T (in Kelvin) versus lnK \n",
    "2. Perform a linear regression, determine the values of the slope and intercept, and plot the regression line\n",
    "3. From the regression results determine the $\\Delta$H and $\\Delta$S of the reaction using the following equations:\n"
   ]
  },
  {
   "cell_type": "code",
   "execution_count": null,
   "metadata": {},
   "outputs": [],
   "source": []
  },
  {
   "cell_type": "markdown",
   "metadata": {},
   "source": [
    "### 2.3 Part 2 - Calculate garnet-bioite temperatures from mineral compositions (6 pts)\n",
    "\n",
    "Two samples of staurolite bearing schist were collected from the Northwest Cascades near Steven's Pass.  One was collected from the Tonga Formation and the other from the Chiwaukum Schist. Use the garnet and biotite mineral compositions in the table below to determine if the samples were metamorphosed at the same temperature.\n",
    "\n",
    "| Unit | Mg$^{Grt}$ | Fe$^{Grt}$ | Mg$^{Bt}$ | Fe$^{Bt}$ |\n",
    "|:-----|:--------:|:--------:|:-------:|:-------:|\n",
    "| Tonga Formation | 0.88    | 4.55     | 2.39    | 2.55    |\n",
    "| Chiwaukum Schist| 0.55    | 2.27     | 1.15    | 1.12    |\n",
    "\n",
    "\n",
    "### Useful Equations\n",
    "\n",
    "$$ K = \\frac{(Mg/Fe)^{Grt}}{(Mg/Fe)^{Bt}} $$\n",
    "\n",
    "$$ T(K) = \\frac{\\Delta H + P \\Delta V }{\\Delta S - 3 R lnK} $$\n",
    "\n",
    "### Questions\n",
    "\n",
    "1. Calculate the equilibrium constant for the Tonga and Chiwaukum samples\n",
    "2. Calclulate and plot the temperature estimate for each sample. \n",
    "    1. Perform you caclualtion bewteen 1000 and 10000 bars (1 to 10 kbar)\n",
    "    2. Label each reaction in the plot using the label command and plt.legend\n",
    "3. Which samples was metamorphosed at higher temperature?\n",
    "4. Based on your plot, explain why this is a good thermometer"
   ]
  },
  {
   "cell_type": "code",
   "execution_count": null,
   "metadata": {},
   "outputs": [],
   "source": []
  }
 ],
 "metadata": {
  "kernelspec": {
   "display_name": "Python 3",
   "language": "python",
   "name": "python3"
  },
  "language_info": {
   "codemirror_mode": {
    "name": "ipython",
    "version": 3
   },
   "file_extension": ".py",
   "mimetype": "text/x-python",
   "name": "python",
   "nbconvert_exporter": "python",
   "pygments_lexer": "ipython3",
   "version": "3.7.4"
  }
 },
 "nbformat": 4,
 "nbformat_minor": 2
}
