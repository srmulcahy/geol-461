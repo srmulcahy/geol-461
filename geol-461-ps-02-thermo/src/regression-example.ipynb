{
 "cells": [
  {
   "cell_type": "markdown",
   "metadata": {},
   "source": [
    "## Import python libraries"
   ]
  },
  {
   "cell_type": "code",
   "execution_count": 1,
   "metadata": {},
   "outputs": [],
   "source": [
    "import numpy as np\n",
    "import pandas as pd\n",
    "import matplotlib.pyplot as plt\n",
    "from scipy import stats"
   ]
  },
  {
   "cell_type": "markdown",
   "metadata": {},
   "source": [
    "## Define functions\n",
    "\n",
    "The function below, called abline, plots a line with a defined slope and intercept. It can be used to plot the results of your regression through the data points."
   ]
  },
  {
   "cell_type": "code",
   "execution_count": 2,
   "metadata": {},
   "outputs": [],
   "source": [
    "def abline(slope, intercept):\n",
    "    \"\"\"Plot a line from slope and intercept\"\"\"\n",
    "    axes = plt.gca()\n",
    "    x_vals = np.array(axes.get_xlim())\n",
    "    y_vals = intercept + slope * x_vals\n",
    "    plt.plot(x_vals, y_vals)"
   ]
  },
  {
   "cell_type": "markdown",
   "metadata": {},
   "source": [
    "## Linear regression with scipy.stats\n",
    "\n",
    "Simple linear regression can be done with the [scipy.stats](https://docs.scipy.org/doc/scipy/reference/stats.html) libraray.  This needs to be loaded into you notebook (see the first code cell) with the command\n",
    "\n",
    "```python\n",
    "from scipy import stats\n",
    "```\n",
    "The following function will return the results of a linear regression through data points x and y\n",
    "\n",
    "```python\n",
    "slope, intercept, r_value, p_value, std_err = stats.linregress(x, y)\n",
    "```\n",
    "The variables: slope, intercept, r_value, etc can then printed to the screen or used as variables. See the example below."
   ]
  },
  {
   "cell_type": "code",
   "execution_count": 3,
   "metadata": {},
   "outputs": [
    {
     "name": "stdout",
     "output_type": "stream",
     "text": [
      "Slope =  3990.00351361845 Intercept =  -1.9094071311693155\n"
     ]
    },
    {
     "data": {
      "image/png": "[encoded data removed]",
      "text/plain": [
       "<Figure size 432x288 with 1 Axes>"
      ]
     },
     "metadata": {
      "needs_background": "light"
     },
     "output_type": "display_data"
    }
   ],
   "source": [
    "# Import data for regression\n",
    "df = pd.read_csv('../data/regression-data.csv')\n",
    "\n",
    "# Define variable x and y\n",
    "x = 10000 * (1 / (df.T_C + 273.15))\n",
    "y = np.log(df.K)\n",
    "\n",
    "# Perform regression and print the slope and intercept values\n",
    "slope, intercept, r_value, p_value, std_err = stats.linregress(x, y)\n",
    "print('Slope = ',10000 * slope, 'Intercept = ', intercept)\n",
    "\n",
    "# Plot the data points\n",
    "plt.plot(x, y, 'ko')\n",
    "\n",
    "# Plot the regression line\n",
    "abline(slope, intercept)\n",
    "\n",
    "# Add labels to the plot\n",
    "plt.xlabel('10,000 / T(K)');\n",
    "plt.ylabel('lnK');"
   ]
  },
  {
   "cell_type": "code",
   "execution_count": 5,
   "metadata": {},
   "outputs": [
    {
     "data": {
      "text/plain": [
       "LinregressResult(slope=0.39900035136184503, intercept=-1.9094071311693155, rvalue=0.996179275380398, pvalue=1.7295323152793901e-06, stderr=0.01564312130948753)"
      ]
     },
     "execution_count": 5,
     "metadata": {},
     "output_type": "execute_result"
    }
   ],
   "source": [
    "stats.linregress(x, y)"
   ]
  },
  {
   "cell_type": "code",
   "execution_count": null,
   "metadata": {},
   "outputs": [],
   "source": []
  }
 ],
 "metadata": {
  "kernelspec": {
   "display_name": "Python 3",
   "language": "python",
   "name": "python3"
  },
  "language_info": {
   "codemirror_mode": {
    "name": "ipython",
    "version": 3
   },
   "file_extension": ".py",
   "mimetype": "text/x-python",
   "name": "python",
   "nbconvert_exporter": "python",
   "pygments_lexer": "ipython3",
   "version": "3.7.4"
  }
 },
 "nbformat": 4,
 "nbformat_minor": 2
}
